{
  "nbformat": 4,
  "nbformat_minor": 0,
  "metadata": {
    "colab": {
      "name": "Class108.ipynb",
      "provenance": [],
      "authorship_tag": "ABX9TyMoAXfRlgUEl5JU0+2MR7aW",
      "include_colab_link": true
    },
    "kernelspec": {
      "name": "python3",
      "display_name": "Python 3"
    },
    "language_info": {
      "name": "python"
    }
  },
  "cells": [
    {
      "cell_type": "markdown",
      "metadata": {
        "id": "view-in-github",
        "colab_type": "text"
      },
      "source": [
        "<a href=\"https://colab.research.google.com/github/pathak-kanvi/Capstone/blob/main/Class108.ipynb\" target=\"_parent\"><img src=\"https://colab.research.google.com/assets/colab-badge.svg\" alt=\"Open In Colab\"/></a>"
      ]
    },
    {
      "cell_type": "code",
      "execution_count": 1,
      "metadata": {
        "colab": {
          "base_uri": "https://localhost:8080/"
        },
        "id": "cpMvPJR6a-P6",
        "outputId": "d2eebf90-963d-49df-e019-9881610d6e0d"
      },
      "outputs": [
        {
          "output_type": "stream",
          "name": "stdout",
          "text": [
            " Enter the number of rows: 5\n",
            "0 \n",
            "0 1 \n",
            "0 1 2 \n",
            "0 1 2 3 \n",
            "0 1 2 3 4 \n"
          ]
        }
      ],
      "source": [
        "num=int(input(\" Enter the number of rows: \"))\n",
        "for i in range(0,num):\n",
        "  for j in range(0,i+1):\n",
        "    print(j, end=\" \")\n",
        "  print()"
      ]
    },
    {
      "cell_type": "code",
      "source": [
        "num=int(input(\" Enter the number of rows: \"))\n",
        "for i in range(1,num):\n",
        "  for j in range(1,i+1):\n",
        "    print(j, end=\" \")\n",
        "  print()"
      ],
      "metadata": {
        "colab": {
          "base_uri": "https://localhost:8080/"
        },
        "id": "HbY8fUimcEi_",
        "outputId": "3e531e7f-6287-43d0-d27c-aa5a0928d551"
      },
      "execution_count": 3,
      "outputs": [
        {
          "output_type": "stream",
          "name": "stdout",
          "text": [
            " Enter the number of rows: 7\n",
            "1 \n",
            "1 2 \n",
            "1 2 3 \n",
            "1 2 3 4 \n",
            "1 2 3 4 5 \n",
            "1 2 3 4 5 6 \n"
          ]
        }
      ]
    },
    {
      "cell_type": "code",
      "source": [
        "num=int(input(\" Enter the number of rows: \"))\n",
        "for i in range(num,0,-1):\n",
        "  for j in range(1,i+1):\n",
        "    print('*', end=\" \")\n",
        "  print()"
      ],
      "metadata": {
        "colab": {
          "base_uri": "https://localhost:8080/"
        },
        "id": "B6b3WLS1cWfu",
        "outputId": "3c167a52-68b1-4874-9dbd-e9708eb2cfa9"
      },
      "execution_count": 4,
      "outputs": [
        {
          "output_type": "stream",
          "name": "stdout",
          "text": [
            " Enter the number of rows: 5\n",
            "* * * * * \n",
            "* * * * \n",
            "* * * \n",
            "* * \n",
            "* \n"
          ]
        }
      ]
    }
  ]
}