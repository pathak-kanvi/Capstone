{
  "nbformat": 4,
  "nbformat_minor": 0,
  "metadata": {
    "colab": {
      "provenance": [],
      "authorship_tag": "ABX9TyPO62zwRVbUA+2GprOEgttz",
      "include_colab_link": true
    },
    "kernelspec": {
      "name": "python3",
      "display_name": "Python 3"
    },
    "language_info": {
      "name": "python"
    }
  },
  "cells": [
    {
      "cell_type": "markdown",
      "metadata": {
        "id": "view-in-github",
        "colab_type": "text"
      },
      "source": [
        "<a href=\"https://colab.research.google.com/github/pathak-kanvi/Capstone/blob/main/Untitled3.ipynb\" target=\"_parent\"><img src=\"https://colab.research.google.com/assets/colab-badge.svg\" alt=\"Open In Colab\"/></a>"
      ]
    },
    {
      "cell_type": "code",
      "execution_count": null,
      "metadata": {
        "id": "WW-EoiYD9zb7"
      },
      "outputs": [],
      "source": []
    },
    {
      "cell_type": "markdown",
      "source": [
        "# Test 1 - You can't compare a string value and an integer value. \n",
        "To fix this you should make both the variables an integer value. The output of this code will return B is larger than A. "
      ],
      "metadata": {
        "id": "2dT7rM05Eosl"
      }
    },
    {
      "cell_type": "code",
      "source": [
        "a=33\n",
        "b=34\n",
        "\n",
        "if b > a :\n",
        "    print(\"B is larger than A\")\n",
        "elif a == b: \n",
        "    print(\"A and B are equal\")"
      ],
      "metadata": {
        "colab": {
          "base_uri": "https://localhost:8080/"
        },
        "id": "bfNrowcVEqVx",
        "outputId": "004af16e-dc83-4977-d853-480167874417"
      },
      "execution_count": 1,
      "outputs": [
        {
          "output_type": "stream",
          "name": "stdout",
          "text": [
            "B is larger than A\n"
          ]
        }
      ]
    },
    {
      "cell_type": "markdown",
      "source": [
        "# Test 2 - No errors! \n",
        "The output of this code will return a line saying \"fnameRef\" multiple times. fname will contain the value inside the my_name variable. "
      ],
      "metadata": {
        "id": "AwWSHijvFCfy"
      }
    },
    {
      "cell_type": "code",
      "source": [
        "def my_name(fname):\n",
        "    print(fname + 'Ref')\n",
        "my_name(\"Kanvi\")\n",
        "my_name(\"Sarah\")\n",
        "my_name(\"Lucy\")"
      ],
      "metadata": {
        "colab": {
          "base_uri": "https://localhost:8080/"
        },
        "id": "3JNBtGWYFIKD",
        "outputId": "b2f3b9c9-49aa-434e-9e61-9b8bb2d50c5c"
      },
      "execution_count": 4,
      "outputs": [
        {
          "output_type": "stream",
          "name": "stdout",
          "text": [
            "KanviRef\n",
            "SarahRef\n",
            "LucyRef\n"
          ]
        }
      ]
    }
  ]
}