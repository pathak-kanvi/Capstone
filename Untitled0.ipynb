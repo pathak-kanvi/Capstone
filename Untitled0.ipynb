{
  "nbformat": 4,
  "nbformat_minor": 0,
  "metadata": {
    "colab": {
      "name": "Untitled0.ipynb",
      "provenance": [],
      "authorship_tag": "ABX9TyOorf3j/ZFtFlD7PUReLWUf",
      "include_colab_link": true
    },
    "kernelspec": {
      "name": "python3",
      "display_name": "Python 3"
    },
    "language_info": {
      "name": "python"
    }
  },
  "cells": [
    {
      "cell_type": "markdown",
      "metadata": {
        "id": "view-in-github",
        "colab_type": "text"
      },
      "source": [
        "<a href=\"https://colab.research.google.com/github/pathak-kanvi/Capstone/blob/main/Untitled0.ipynb\" target=\"_parent\"><img src=\"https://colab.research.google.com/assets/colab-badge.svg\" alt=\"Open In Colab\"/></a>"
      ]
    },
    {
      "cell_type": "code",
      "execution_count": 1,
      "metadata": {
        "colab": {
          "base_uri": "https://localhost:8080/"
        },
        "id": "InsPAaVQpW36",
        "outputId": "17c4bd91-7866-4522-e384-e047d52efbe0"
      },
      "outputs": [
        {
          "output_type": "stream",
          "name": "stdout",
          "text": [
            "Enter your name: Kanvi\n",
            "K * * * * \n",
            "* a * * * \n",
            "* * n * * \n",
            "* * * v * \n",
            "* * * * i \n"
          ]
        }
      ],
      "source": [
        "name=input(\"Enter your name: \")\n",
        "length=len(name)\n",
        "for x in range(0,length):\n",
        "  for i in range(0,length):\n",
        "    if(x==i):\n",
        "      print(name[i], sep=' ', end=' ')\n",
        "    else:\n",
        "      print(\"*\", sep=' ', end=' ')\n",
        "\n",
        "  print()"
      ]
    }
  ]
}