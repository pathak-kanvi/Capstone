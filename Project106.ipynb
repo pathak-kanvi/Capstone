{
  "nbformat": 4,
  "nbformat_minor": 0,
  "metadata": {
    "colab": {
      "name": "Project106.ipynb",
      "provenance": [],
      "authorship_tag": "ABX9TyN+eV3VRYv4mOXi4IVNx3TG",
      "include_colab_link": true
    },
    "kernelspec": {
      "name": "python3",
      "display_name": "Python 3"
    },
    "language_info": {
      "name": "python"
    }
  },
  "cells": [
    {
      "cell_type": "markdown",
      "metadata": {
        "id": "view-in-github",
        "colab_type": "text"
      },
      "source": [
        "<a href=\"https://colab.research.google.com/github/pathak-kanvi/Capstone/blob/main/Project106.ipynb\" target=\"_parent\"><img src=\"https://colab.research.google.com/assets/colab-badge.svg\" alt=\"Open In Colab\"/></a>"
      ]
    },
    {
      "cell_type": "code",
      "execution_count": null,
      "metadata": {
        "id": "XZ6A1olSZZwz"
      },
      "outputs": [],
      "source": [
        ""
      ]
    },
    {
      "cell_type": "markdown",
      "source": [
        "Dodo's Result"
      ],
      "metadata": {
        "id": "bzrQh4GPZbsw"
      }
    },
    {
      "cell_type": "code",
      "source": [
        "result_list=['Maths', '90', 'English', '80', 'History', '75', 'Art', '85']\n",
        "subjects=result_list[0:8:2]\n",
        "print(\"The subjects are\" , subjects)"
      ],
      "metadata": {
        "colab": {
          "base_uri": "https://localhost:8080/"
        },
        "id": "jlIkvCIFZd47",
        "outputId": "e7493626-6256-47af-bf24-6edc4d26c0af"
      },
      "execution_count": 1,
      "outputs": [
        {
          "output_type": "stream",
          "name": "stdout",
          "text": [
            "The subjects are ['Maths', 'English', 'History', 'Art']\n"
          ]
        }
      ]
    },
    {
      "cell_type": "code",
      "source": [
        "marks=result_list[1:8:2]\n",
        "print(\"The marks are\" , marks)"
      ],
      "metadata": {
        "colab": {
          "base_uri": "https://localhost:8080/"
        },
        "id": "_cQmbN5caKVD",
        "outputId": "9365304a-6700-409d-b773-238fec939579"
      },
      "execution_count": 2,
      "outputs": [
        {
          "output_type": "stream",
          "name": "stdout",
          "text": [
            "The marks are ['90', '80', '75', '85']\n"
          ]
        }
      ]
    }
  ]
}