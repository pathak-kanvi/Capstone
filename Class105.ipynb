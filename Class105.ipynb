{
  "nbformat": 4,
  "nbformat_minor": 0,
  "metadata": {
    "colab": {
      "name": "Class105.ipynb",
      "provenance": [],
      "collapsed_sections": [],
      "authorship_tag": "ABX9TyNUNTGUb7h4UZNLts7yhgOT",
      "include_colab_link": true
    },
    "kernelspec": {
      "name": "python3",
      "display_name": "Python 3"
    },
    "language_info": {
      "name": "python"
    }
  },
  "cells": [
    {
      "cell_type": "markdown",
      "metadata": {
        "id": "view-in-github",
        "colab_type": "text"
      },
      "source": [
        "<a href=\"https://colab.research.google.com/github/pathak-kanvi/Capstone/blob/main/Class105.ipynb\" target=\"_parent\"><img src=\"https://colab.research.google.com/assets/colab-badge.svg\" alt=\"Open In Colab\"/></a>"
      ]
    },
    {
      "cell_type": "code",
      "execution_count": null,
      "metadata": {
        "id": "gSC9feKViidw"
      },
      "outputs": [],
      "source": [
        ""
      ]
    },
    {
      "cell_type": "markdown",
      "source": [
        "Introduction of Python"
      ],
      "metadata": {
        "id": "ww6r5TcbimUe"
      }
    },
    {
      "cell_type": "code",
      "source": [
        "def sum(x,y):\n",
        "  return x+y\n",
        "\n",
        "def subtract(x,y):\n",
        "  return x-y\n",
        "\n",
        "def calculate(option):\n",
        "  if (option=='1' or option=='2'):\n",
        "    num1=float(input(\"Enter first number \"))\n",
        "    num2=float(input(\"Enter second number \"))\n",
        "    if option=='1':\n",
        "      print(\"Sum \", num1, \"+\", num2, \"=\", sum(num1, num2))\n",
        "    elif option=='2':\n",
        "      print(\"Differnce\", num1, \"-\", num2, \"=\", subtract(num1, num2))\n",
        "  else:\n",
        "    print(\"Invalid input\")\n",
        "\n",
        "#Instructions for the user\n",
        "print(\"Choose the operations from below \")\n",
        "print(\"1. Add\")\n",
        "print(\"2. Subtraction\")\n",
        "option=input(\"Enter the options (1/2) \")\n",
        "calculate(option)\n"
      ],
      "metadata": {
        "colab": {
          "base_uri": "https://localhost:8080/"
        },
        "id": "3bZgIJtniqf9",
        "outputId": "67b3076a-1d56-4a10-d2e6-c4dbcc7de1e0"
      },
      "execution_count": 2,
      "outputs": [
        {
          "output_type": "stream",
          "name": "stdout",
          "text": [
            "Choose the operations from below \n",
            "1. Add\n",
            "2. Subtraction\n",
            "Enter the options (1/2) 2\n",
            "Enter first number 15\n",
            "Enter second number 7\n",
            "Differnce 15.0 - 7.0 = 8.0\n"
          ]
        }
      ]
    }
  ]
}