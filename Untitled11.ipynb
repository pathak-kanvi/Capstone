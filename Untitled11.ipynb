{
  "nbformat": 4,
  "nbformat_minor": 0,
  "metadata": {
    "colab": {
      "name": "Untitled11.ipynb",
      "provenance": [],
      "include_colab_link": true
    },
    "kernelspec": {
      "name": "python3",
      "display_name": "Python 3"
    },
    "language_info": {
      "name": "python"
    }
  },
  "cells": [
    {
      "cell_type": "markdown",
      "metadata": {
        "id": "view-in-github",
        "colab_type": "text"
      },
      "source": [
        "<a href=\"https://colab.research.google.com/github/pathak-kanvi/Capstone/blob/main/Untitled11.ipynb\" target=\"_parent\"><img src=\"https://colab.research.google.com/assets/colab-badge.svg\" alt=\"Open In Colab\"/></a>"
      ]
    },
    {
      "cell_type": "code",
      "execution_count": null,
      "metadata": {
        "colab": {
          "base_uri": "https://localhost:8080/"
        },
        "id": "7Qf58Djvm5vd",
        "outputId": "b8e1a44a-94ab-4d81-9336-88a4804fad4e"
      },
      "outputs": [
        {
          "output_type": "stream",
          "name": "stdout",
          "text": [
            "30\n"
          ]
        }
      ],
      "source": [
        "dict1= {\n",
        "    'key1': \"value1\", 'roll': 30,\n",
        "}\n",
        "print(dict1['roll'])"
      ]
    },
    {
      "cell_type": "markdown",
      "source": [
        "OOPs"
      ],
      "metadata": {
        "id": "ZnL31jAhotNW"
      }
    },
    {
      "cell_type": "code",
      "source": [
        "class ClassName:\n",
        "  def __init__(self):\n"
      ],
      "metadata": {
        "id": "BWXr6iSboliI"
      },
      "execution_count": null,
      "outputs": []
    },
    {
      "cell_type": "code",
      "source": [
        "class Contact_Details:\n",
        "  def __init__(self,name,mobile_number,email,address):\n",
        "    self.contact_name = name\n",
        "    self.contact_number= mobile_number\n",
        "    self.email= email\n",
        "    self.contact_address= address\n",
        "\n",
        "    self.person={\n",
        "        'name':self.contact_name,\n",
        "        'mobile':self.contact_number,\n",
        "        'email':self.email,\n",
        "        'address':self.contact_address\n",
        "    }\n",
        "  \n",
        "  def view_contact_details(self, contact_list):\n",
        "    print(contact_list)\n",
        "\n",
        "  def add_contact_details(self, contact_list):\n",
        "    contact_list.append(self.person)\n",
        "\n",
        "\n",
        "phone_list=[]\n",
        "new_contact = Contact_Details(\"Kanvi\",8590590876,\"abc@gmail.com\",\"sydney\")\n",
        "\n",
        "object1=Contact_Details(\"Amy\", 876432886, \"oxy@gmail.com\" , \"australia\" )\n",
        "\n",
        "new_contact.add_contact_details(phone_list)\n",
        "new_contact.view_contact_details(phone_list)\n",
        "\n",
        "object1.add_contact_details(phone_list)\n",
        "object1.view_contact_details(phone_list)"
      ],
      "metadata": {
        "colab": {
          "base_uri": "https://localhost:8080/"
        },
        "id": "cHsFjOR6sqTR",
        "outputId": "25d5012c-eac8-4938-c3ea-e37e8647ac59"
      },
      "execution_count": 13,
      "outputs": [
        {
          "output_type": "stream",
          "name": "stdout",
          "text": [
            "[{'name': 'Kanvi', 'mobile': 8590590876, 'email': 'abc@gmail.com', 'address': 'sydney'}]\n",
            "[{'name': 'Kanvi', 'mobile': 8590590876, 'email': 'abc@gmail.com', 'address': 'sydney'}, {'name': 'Amy', 'mobile': 876432886, 'email': 'oxy@gmail.com', 'address': 'australia'}]\n"
          ]
        }
      ]
    }
  ]
}