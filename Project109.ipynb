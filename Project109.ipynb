{
  "nbformat": 4,
  "nbformat_minor": 0,
  "metadata": {
    "colab": {
      "name": "Project109.ipynb",
      "provenance": [],
      "collapsed_sections": [],
      "include_colab_link": true
    },
    "kernelspec": {
      "name": "python3",
      "display_name": "Python 3"
    },
    "language_info": {
      "name": "python"
    }
  },
  "cells": [
    {
      "cell_type": "markdown",
      "metadata": {
        "id": "view-in-github",
        "colab_type": "text"
      },
      "source": [
        "<a href=\"https://colab.research.google.com/github/pathak-kanvi/Capstone/blob/main/Project109.ipynb\" target=\"_parent\"><img src=\"https://colab.research.google.com/assets/colab-badge.svg\" alt=\"Open In Colab\"/></a>"
      ]
    },
    {
      "cell_type": "markdown",
      "metadata": {
        "id": "HU9P8NYZq1bf"
      },
      "source": [
        "### **SAVE YOUR MOVIE RATING**\n",
        "\n",
        "Enter the **Name of Movie**; \n",
        "\n",
        "Rate Actor, Story & Music on basis of 1-5 ; \n",
        "\n",
        "1 Being Lowest & 5 Being Highest\n",
        "\n"
      ]
    },
    {
      "cell_type": "code",
      "metadata": {
        "id": "4LOQr7Pgi4bI"
      },
      "source": [
        "class MovieReview:\n",
        "  def __init__(self, movie, story, actors, music):\n",
        "    #Movie name\n",
        "    self.movie_name = movie\n",
        "\n",
        "    #Ratings\n",
        "    self.story_rating = story\n",
        "    self.actor_rating = actors\n",
        "    self.music_rating = music\n",
        "\n",
        "    #Average Ratings\n",
        "    self.avg = int((self.story_rating + self.actor_rating + self.music_rating)/3)\n",
        "\n",
        "    #Move Info\n",
        "    self.myrating = {\n",
        "        \"Movie Name\" : self.movie_name,\n",
        "        \"Story rating\" : self.story_rating,\n",
        "        \"Actor Rating\": self.actor_rating,\n",
        "        \"Music Rating\": self.music_rating,\n",
        "        \"Avg Rating\" : self.avg\n",
        "    }\n",
        "  \n",
        "  def add_movie_ratings(self, movie_list):\n",
        "        movie_list.append(self.myrating)\n",
        "  \n",
        "  \n",
        "  def avg_star_ratings(self, movie_list):\n",
        "    for movie in movie_list:\n",
        "      if(movie[\"Avg Rating\"] == 1 ):\n",
        "        print(\"Thanks for the response, You rated Movie with   *\")\n",
        "        print(movie)\n",
        "\n",
        "      elif(movie[\"Avg Rating\"] == 2 ):\n",
        "        print(\"Thanks for the response, You rated Movie with   * * \")\n",
        "        print(movie)\n",
        "\n",
        "      elif(movie[\"Avg Rating\"] == 3 ):\n",
        "        print(\"Thanks for the response, You rated Movie with   * * *\")\n",
        "        print(movie)\n",
        "\n",
        "      elif(movie[\"Avg Rating\"] == 4 ):\n",
        "        print(\"Thanks for the response, You rated Movie with   * * * *\")\n",
        "        print(movie)\n",
        "\n",
        "      if(movie[\"Avg Rating\"] == 5 ):\n",
        "        print(\"Thanks for the response, You rated Movie with   * * * * *\")\n",
        "        print(movie)\n",
        "      \n",
        "        \n",
        "    "
      ],
      "execution_count": null,
      "outputs": []
    },
    {
      "cell_type": "code",
      "metadata": {
        "id": "FS2UixDEmuZh"
      },
      "source": [
        "moviereviews = []"
      ],
      "execution_count": null,
      "outputs": []
    },
    {
      "cell_type": "code",
      "metadata": {
        "colab": {
          "base_uri": "https://localhost:8080/"
        },
        "id": "M_PycbwVrFC5",
        "outputId": "d9262820-cb26-47b5-cef3-a1c1e73eb839"
      },
      "source": [
        "#Enter the name of Movie; \n",
        "# Rate Actor, Story & Music on basis of 1-5 ; 5 being Highest\n",
        "\n",
        "review1 = MovieReview (\"Good Life\", 1, 1, 3)\n",
        "review1.add_movie_ratings(moviereviews)\n",
        "review1.avg_star_ratings(moviereviews)"
      ],
      "execution_count": null,
      "outputs": [
        {
          "output_type": "stream",
          "name": "stdout",
          "text": [
            "Thanks for the response, You rated Movie with   *\n",
            "{'Movie Name': 'Good Life', 'Story rating': 1, 'Actor Rating': 1, 'Music Rating': 3, 'Avg Rating': 1}\n"
          ]
        }
      ]
    },
    {
      "cell_type": "code",
      "metadata": {
        "colab": {
          "base_uri": "https://localhost:8080/"
        },
        "id": "w-GfuJ2_VFOU",
        "outputId": "e2a3dcc8-ee30-4cfe-8ad4-120d1d879a4f"
      },
      "source": [
        "review2 = MovieReview(\"Beautiful Sound\", 5, 5, 5)\n",
        "review2.add_movie_ratings(moviereviews)\n",
        "review2.avg_star_ratings(moviereviews)"
      ],
      "execution_count": null,
      "outputs": [
        {
          "output_type": "stream",
          "name": "stdout",
          "text": [
            "Thanks for the response, You rated Movie with   *\n",
            "{'Movie Name': 'Good Life', 'Story rating': 1, 'Actor Rating': 1, 'Music Rating': 3, 'Avg Rating': 1}\n",
            "Thanks for the response, You rated Movie with   * * * * *\n",
            "{'Movie Name': 'Beautiful Sound', 'Story rating': 5, 'Actor Rating': 5, 'Music Rating': 5, 'Avg Rating': 5}\n"
          ]
        }
      ]
    },
    {
      "cell_type": "code",
      "metadata": {
        "colab": {
          "base_uri": "https://localhost:8080/"
        },
        "id": "196NYU3rXGrr",
        "outputId": "21e4ffa8-c9a7-4594-b887-7e0304278c45"
      },
      "source": [
        "review3 = MovieReview(\"Smiley\", 1, 1, 3)\n",
        "review3.add_movie_ratings(moviereviews)\n",
        "review3.avg_star_ratings(moviereviews)"
      ],
      "execution_count": null,
      "outputs": [
        {
          "output_type": "stream",
          "name": "stdout",
          "text": [
            "Thanks for the response, You rated Movie with   *\n",
            "{'Movie Name': 'Good Life', 'Story rating': 1, 'Actor Rating': 1, 'Music Rating': 3, 'Avg Rating': 1}\n",
            "Thanks for the response, You rated Movie with   * * * * *\n",
            "{'Movie Name': 'Beautiful Sound', 'Story rating': 5, 'Actor Rating': 5, 'Music Rating': 5, 'Avg Rating': 5}\n",
            "Thanks for the response, You rated Movie with   *\n",
            "{'Movie Name': 'Smiley', 'Story rating': 1, 'Actor Rating': 1, 'Music Rating': 3, 'Avg Rating': 1}\n"
          ]
        }
      ]
    }
  ]
}