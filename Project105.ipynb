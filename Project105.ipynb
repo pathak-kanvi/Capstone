{
  "nbformat": 4,
  "nbformat_minor": 0,
  "metadata": {
    "colab": {
      "name": "Project105.ipynb",
      "provenance": [],
      "authorship_tag": "ABX9TyOPUGQmpOKJeF23gDzNY8r5",
      "include_colab_link": true
    },
    "kernelspec": {
      "name": "python3",
      "display_name": "Python 3"
    },
    "language_info": {
      "name": "python"
    }
  },
  "cells": [
    {
      "cell_type": "markdown",
      "metadata": {
        "id": "view-in-github",
        "colab_type": "text"
      },
      "source": [
        "<a href=\"https://colab.research.google.com/github/pathak-kanvi/Capstone/blob/main/Project105.ipynb\" target=\"_parent\"><img src=\"https://colab.research.google.com/assets/colab-badge.svg\" alt=\"Open In Colab\"/></a>"
      ]
    },
    {
      "cell_type": "code",
      "execution_count": 3,
      "metadata": {
        "colab": {
          "base_uri": "https://localhost:8080/"
        },
        "id": "y9xX2Fv9pq85",
        "outputId": "4a96f61a-54df-4be3-fa35-137e02b8fcf4"
      },
      "outputs": [
        {
          "output_type": "stream",
          "name": "stdout",
          "text": [
            "Enter your height in centimeters 154\n",
            "Your height in inches is  60.676\n",
            "Your height in feet is  5.051200000000001\n"
          ]
        }
      ],
      "source": [
        "#Height converter\n",
        "cm=float(input(\"Enter your height in centimeters \"))\n",
        "inch=cm*0.394\n",
        "ft=cm*0.0328\n",
        "print(\"Your height in inches is \", inch)\n",
        "print(\"Your height in feet is \", ft)"
      ]
    },
    {
      "cell_type": "markdown",
      "source": [
        "Leap year calculator"
      ],
      "metadata": {
        "id": "ITffxNHsptbL"
      }
    },
    {
      "cell_type": "code",
      "source": [
        "year=int(input(\"Enter the year \"))\n",
        "if (year % 4 ==0 and year % 400 ==0):\n",
        "  print(\"Year is a leap year\")\n",
        "else:\n",
        "  print(\"It is not a leap year\")\n",
        "  "
      ],
      "metadata": {
        "colab": {
          "base_uri": "https://localhost:8080/"
        },
        "id": "a-gMMBxipxM_",
        "outputId": "03553132-0db5-43d8-e407-82ec7c716c59"
      },
      "execution_count": 2,
      "outputs": [
        {
          "output_type": "stream",
          "name": "stdout",
          "text": [
            "Enter the year 2024\n",
            "It is not a leap year\n"
          ]
        }
      ]
    }
  ]
}