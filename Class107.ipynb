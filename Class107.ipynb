{
  "nbformat": 4,
  "nbformat_minor": 0,
  "metadata": {
    "colab": {
      "name": "Class107.ipynb",
      "provenance": [],
      "authorship_tag": "ABX9TyMeRabaPxrdcJyolFdONVzc",
      "include_colab_link": true
    },
    "kernelspec": {
      "name": "python3",
      "display_name": "Python 3"
    },
    "language_info": {
      "name": "python"
    }
  },
  "cells": [
    {
      "cell_type": "markdown",
      "metadata": {
        "id": "view-in-github",
        "colab_type": "text"
      },
      "source": [
        "<a href=\"https://colab.research.google.com/github/pathak-kanvi/Capstone/blob/main/Class107.ipynb\" target=\"_parent\"><img src=\"https://colab.research.google.com/assets/colab-badge.svg\" alt=\"Open In Colab\"/></a>"
      ]
    },
    {
      "cell_type": "code",
      "execution_count": 1,
      "metadata": {
        "colab": {
          "base_uri": "https://localhost:8080/"
        },
        "id": "sCE95l3Vj4jU",
        "outputId": "579d7eda-142c-4bd9-f3a5-6f7f80e821b4"
      },
      "outputs": [
        {
          "output_type": "stream",
          "name": "stdout",
          "text": [
            "2\n",
            "5\n",
            "7\n",
            "8\n",
            "9\n",
            "6\n"
          ]
        }
      ],
      "source": [
        "list1 =[2,5,7,8,9,6]\n",
        "for i in list1:\n",
        "  print(i)"
      ]
    },
    {
      "cell_type": "code",
      "source": [
        "print(range(0,10))\n",
        "for x in range(0,10,2):\n",
        " print(x)"
      ],
      "metadata": {
        "colab": {
          "base_uri": "https://localhost:8080/"
        },
        "id": "YQrQWGn6klfP",
        "outputId": "67bc0a35-25b8-4171-90b7-49ef86652091"
      },
      "execution_count": 5,
      "outputs": [
        {
          "output_type": "stream",
          "name": "stdout",
          "text": [
            "range(0, 10)\n",
            "0\n",
            "2\n",
            "4\n",
            "6\n",
            "8\n"
          ]
        }
      ]
    },
    {
      "cell_type": "code",
      "source": [
        "#Project to check divisbility by any number\n",
        "lowerLimit=int(input('Enter the lower range limit: '))\n",
        "upperLimit=int(input('Enter the upper limit: '))\n",
        "div=int(input('Enter the number to check divisibility with: '))\n",
        "\n",
        "for i in range(lowerLimit, upperLimit):\n",
        "  if (i%div==0):\n",
        "    print(i)"
      ],
      "metadata": {
        "colab": {
          "base_uri": "https://localhost:8080/"
        },
        "id": "G0jDc0hwoMRY",
        "outputId": "5372a473-f843-48b3-c8c0-392b1b4ee6c5"
      },
      "execution_count": 8,
      "outputs": [
        {
          "output_type": "stream",
          "name": "stdout",
          "text": [
            "Enter the lower range limit: 5\n",
            "Enter the upper limit: 30\n",
            "Enter the number to check divisibility with: 3\n",
            "6\n",
            "9\n",
            "12\n",
            "15\n",
            "18\n",
            "21\n",
            "24\n",
            "27\n"
          ]
        }
      ]
    },
    {
      "cell_type": "code",
      "source": [
        "list_ofmarks=[65,80,75,30,53,77,26,90,67,65,80,80,23,50,86]\n",
        "count=0\n",
        "check_number=80\n",
        "for x in list_ofmarks:\n",
        "  if (check_number==x):\n",
        "    count=count+1\n",
        "print(count)"
      ],
      "metadata": {
        "colab": {
          "base_uri": "https://localhost:8080/"
        },
        "id": "BLeGbaQClq5J",
        "outputId": "5cdc6f8f-af1a-4c32-d55b-54c1f79e2ad1"
      },
      "execution_count": 6,
      "outputs": [
        {
          "output_type": "stream",
          "name": "stdout",
          "text": [
            "3\n"
          ]
        }
      ]
    }
  ]
}